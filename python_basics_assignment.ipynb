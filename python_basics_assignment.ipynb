{
 "cells": [
  {
   "cell_type": "raw",
   "id": "9a2a5428-be09-4861-a0f4-b2e121ba5cd3",
   "metadata": {},
   "source": [
    "#Python_basics_assignment:\n",
    "\n",
    "#1.What are key features of Python that make it a popular choice for programming:\n",
    "#Ans:\n",
    "#Features of Python:\n",
    "\"\"\"\n",
    "1. Easy to Learn\n",
    "2. Versatile\n",
    "3. High-Level Language\n",
    "4. Large Standard Library\n",
    "5. Dynamic Typing\n",
    "6. Cross-Platform\n",
    "7. Open-Source\n",
    "8. Extensive Community\n",
    "9. Rapid Development\n",
    "10. Extensive Libraries\n",
    "\"\"\""
   ]
  },
  {
   "cell_type": "code",
   "execution_count": null,
   "id": "92b66bf0-c046-4e3f-b2d1-bbd8eb336dde",
   "metadata": {},
   "outputs": [
    {
     "name": "stdout",
     "output_type": "stream",
     "text": [
      "\n",
      "Here is a list of the Python keywords.  Enter any keyword to get more help.\n",
      "\n",
      "False               class               from                or\n",
      "None                continue            global              pass\n",
      "True                def                 if                  raise\n",
      "and                 del                 import              return\n",
      "as                  elif                in                  try\n",
      "assert              else                is                  while\n",
      "async               except              lambda              with\n",
      "await               finally             nonlocal            yield\n",
      "break               for                 not                 \n",
      "\n"
     ]
    }
   ],
   "source": [
    " #2.Describe the role of predefined keywords in Python and provide examples of how they are used in a program.\n",
    " #Ans:\n",
    "\n",
    "#Keywords are predefined words that have a special meaning and specific purposes in Python.\n",
    "#They are reserved words that cannot be used as variable names or identifiers.\n",
    "#Keywords play a crucial role in defining the structure and syntax of Python code.\n",
    "#They are used to define control structures, declare functions and classes, handle exceptions, and import modules.\n",
    "#Examples of keywords include: if, else, for, while, def, class, try, except, import, etc.\n",
    "Examples:\n",
    "'''\n",
    "if, else, elif: Used for conditional statements.\n",
    "for, while: Used for loops.\n",
    "def: Used to define a function.\n",
    "class: Used to define a class.\n",
    "import: Used to import modules.\n",
    "'''\n",
    "#more keywords\n",
    "help (\"keywords\")"
   ]
  },
  {
   "cell_type": "code",
   "execution_count": 7,
   "id": "9e2043bc-df84-47a5-b393-f5591fbded89",
   "metadata": {},
   "outputs": [
    {
     "name": "stdout",
     "output_type": "stream",
     "text": [
      "This is true\n"
     ]
    }
   ],
   "source": [
    "#examples\n",
    "if True:\n",
    "    print(\"This is true\")\n",
    "else:\n",
    "    print(\"This is false\")"
   ]
  },
  {
   "cell_type": "raw",
   "id": "d28badcc-afd4-4471-8023-150a2e5d1952",
   "metadata": {},
   "source": [
    "#3. Compare and contrast mutable and immutable objects in Python with examples.\n",
    "\n",
    "#Mutable: Objects whose state or value can be changed after creation are called as mutable objects.\n",
    "#Examples: lists, dictionaries, sets.\n",
    "#example usage\n",
    "#my_list = [1, 2, 3]\n",
    "\n",
    "#Immutable : Objects whose state or value cannot be changed after creation are called as mutable objects.\n",
    "#Examples: integers, floats, strings, tuples.\n",
    "#example usage : \n",
    "#my_tuple = (1, 2, 3"
   ]
  },
  {
   "cell_type": "raw",
   "id": "182da152-3a2c-4dfe-aa47-331a3ea2847f",
   "metadata": {},
   "source": [
    "#4.Discuss the different types of operators in Python and provide examples of how they are used.\n",
    "#Ans:\n",
    "\n",
    "1.Arithmatic operators\n",
    "\n",
    "a. addition (+)\n",
    "b. substraction (-)\n",
    "c.multiplication (*)\n",
    "d.division (/)\n",
    "e.modulus (%)\n",
    "f.exponentiation (**)\n"
   ]
  },
  {
   "cell_type": "code",
   "execution_count": 12,
   "id": "1fdc383f-5564-47ab-a0b6-bc16353a4428",
   "metadata": {},
   "outputs": [
    {
     "name": "stdout",
     "output_type": "stream",
     "text": [
      "13\n",
      "7\n",
      "30\n",
      "3.3333333333333335\n",
      "1\n",
      "1000\n"
     ]
    }
   ],
   "source": [
    "#examples usage :\n",
    "a = 10\n",
    "b = 3\n",
    "print(a + b)  # 13\n",
    "print(a - b)  # 7\n",
    "print(a * b)  # 30\n",
    "print(a / b)  # 3.333...\n",
    "print(a % b)  # 1\n",
    "print(a ** b) # 1000"
   ]
  },
  {
   "cell_type": "raw",
   "id": "c3ffa02e-0b20-4850-a30f-b7fef1c1ac6c",
   "metadata": {},
   "source": [
    "2.Comparison Operators\n",
    "      == (equal to)\n",
    "     != (not equal to)\n",
    "     > (greater than)\n",
    "     < (less than)\n",
    "     >= (greater than or equal to)\n",
    "     <= (less than or equal to)"
   ]
  },
  {
   "cell_type": "code",
   "execution_count": 13,
   "id": "efedbae2-47df-4162-a2c3-27960edfc3b5",
   "metadata": {},
   "outputs": [
    {
     "name": "stdout",
     "output_type": "stream",
     "text": [
      "False\n",
      "True\n",
      "False\n",
      "True\n",
      "False\n",
      "True\n"
     ]
    }
   ],
   "source": [
    "#examples usage :\n",
    "a = 10\n",
    "b = 20\n",
    "print(a == b)  # False\n",
    "print(a != b)  # True\n",
    "print(a > b)   # False\n",
    "print(a < b)   # True\n",
    "print(a >= b)  # False\n",
    "print(a <= b)  # True"
   ]
  },
  {
   "cell_type": "raw",
   "id": "89625a78-08db-4fd4-b78c-da6f73d27d89",
   "metadata": {},
   "source": [
    "3.Logical Operators:\n",
    "    - and (logical and)\n",
    "    - or (logical or)\n",
    "    - not (logical not)"
   ]
  },
  {
   "cell_type": "code",
   "execution_count": 14,
   "id": "8bc0a068-465c-4c0c-9c12-ac1d1fd1a1fc",
   "metadata": {},
   "outputs": [
    {
     "name": "stdout",
     "output_type": "stream",
     "text": [
      "False\n",
      "True\n",
      "False\n"
     ]
    }
   ],
   "source": [
    "#examples usage :\n",
    "a = True\n",
    "b = False\n",
    "print(a and b)  # False\n",
    "print(a or b)   # True\n",
    "print(not a)    # False"
   ]
  },
  {
   "cell_type": "raw",
   "id": "e74e7299-8b0b-40fe-95c8-69f38bff95e0",
   "metadata": {},
   "source": [
    "4.Assignment Operators:\n",
    "    - = (assignment)\n",
    "    - += (addition assignment)\n",
    "    - -= (subtraction assignment)\n",
    "    - *= (multiplication assignment)\n",
    "    - /= (division assignment)\n",
    "    - **= (exponentiation assignment)"
   ]
  },
  {
   "cell_type": "code",
   "execution_count": 15,
   "id": "f04f4a5d-7015-42a1-9bf8-7e2c1334d36b",
   "metadata": {},
   "outputs": [
    {
     "name": "stdout",
     "output_type": "stream",
     "text": [
      "10\n",
      "15\n",
      "30\n",
      "20\n",
      "5.0\n",
      "2.0\n",
      "8.0\n",
      "4.0\n"
     ]
    }
   ],
   "source": [
    "#examples usage :\n",
    "a = 10  # a is 10\n",
    "print(a)  # Output: 10\n",
    "\n",
    "a += 5  # a is now 15\n",
    "print(a)  # Output: 15\n",
    "\n",
    "a *= 2  # a is now 30\n",
    "print(a)  # Output: 30\n",
    "\n",
    "a -= 10  # a is now 20\n",
    "print(a)  # Output: 20\n",
    "\n",
    "a /= 4  # a is now 5.0\n",
    "print(a)  # Output: 5.0\n",
    "\n",
    "a %= 3  # a is now 2.0\n",
    "print(a)  # Output: 2.0\n",
    "\n",
    "a **= 3  # a is now 8.0\n",
    "print(a)  # Output: 8.0\n",
    "\n",
    "a //= 2  # a is now 4.0\n",
    "print(a)  # Output: 4.0\n"
   ]
  },
  {
   "cell_type": "raw",
   "id": "08b543fc-73e1-4345-9e9f-12c6ca169ce8",
   "metadata": {},
   "source": [
    "5.Bitwise Operators:\n",
    "    - & (bitwise and)\n",
    "    - | (bitwise or)\n",
    "    - ^ (bitwise xor)\n",
    "    - ~ (bitwise not)\n",
    "    - << (left shift)\n",
    "    - >> (right shift)"
   ]
  },
  {
   "cell_type": "code",
   "execution_count": 16,
   "id": "81c7fcd0-f6b2-4957-86bb-f98967c70b11",
   "metadata": {},
   "outputs": [
    {
     "name": "stdout",
     "output_type": "stream",
     "text": [
      "a & b = 4\n",
      "a | b = 13\n",
      "a ^ b = 9\n",
      "~a = -13\n",
      "a << 2 = 48\n",
      "a >> 2 = 3\n"
     ]
    }
   ],
   "source": [
    "a = 12  # binary: 1100\n",
    "b = 5   # binary: 0101\n",
    "\n",
    "# Bitwise AND\n",
    "result_and = a & b\n",
    "print(\"a & b =\", result_and)  # Output: 4 (binary: 0100)\n",
    "\n",
    "# Bitwise OR\n",
    "result_or = a | b\n",
    "print(\"a | b =\", result_or)  # Output: 13 (binary: 1101)\n",
    "\n",
    "# Bitwise XOR\n",
    "result_xor = a ^ b\n",
    "print(\"a ^ b =\", result_xor)  # Output: 9 (binary: 1001)\n",
    "\n",
    "# Bitwise NOT\n",
    "result_not = ~a\n",
    "print(\"~a =\", result_not)  # Output: -13 (binary: ...11110011, two's complement)\n",
    "\n",
    "# Left Shift\n",
    "result_left_shift = a << 2\n",
    "print(\"a << 2 =\", result_left_shift)  # Output: 48 (binary: 110000)\n",
    "\n",
    "# Right Shift\n",
    "result_right_shift = a >> 2\n",
    "print(\"a >> 2 =\", result_right_shift)  # Output: 3 (binary: 11)\n"
   ]
  },
  {
   "cell_type": "raw",
   "id": "ea11998c-d99d-47c6-987f-27246c2aca70",
   "metadata": {},
   "source": [
    "6.Membership Operators:\n",
    "    - in (membership)\n",
    "    - not in (non-membership)"
   ]
  },
  {
   "cell_type": "code",
   "execution_count": 17,
   "id": "0c563cf4-6556-459f-a4c7-e3a68a2ae54f",
   "metadata": {},
   "outputs": [
    {
     "name": "stdout",
     "output_type": "stream",
     "text": [
      "True\n"
     ]
    }
   ],
   "source": [
    "# List example\n",
    "my_list = [1, 2, 3, 4, 5]\n",
    "print(3 in my_list)  # Output: True"
   ]
  },
  {
   "cell_type": "code",
   "execution_count": 18,
   "id": "d5525eb1-4709-452c-b273-8eec94767a2e",
   "metadata": {},
   "outputs": [
    {
     "name": "stdout",
     "output_type": "stream",
     "text": [
      "True\n"
     ]
    }
   ],
   "source": [
    "# List example\n",
    "my_list = [1, 2, 3, 4, 5]\n",
    "print(6 not in my_list)  # Output: True\n"
   ]
  },
  {
   "cell_type": "raw",
   "id": "a12f3e4c-404d-40e6-b624-783c87405329",
   "metadata": {},
   "source": [
    "7.Identity Operators:\n",
    "    - is (identity)\n",
    "    - is not (non-identity)"
   ]
  },
  {
   "cell_type": "code",
   "execution_count": 19,
   "id": "d7023f7c-98f1-455b-a7ea-47b50b79e9ff",
   "metadata": {},
   "outputs": [
    {
     "name": "stdout",
     "output_type": "stream",
     "text": [
      "True\n",
      "False\n"
     ]
    }
   ],
   "source": [
    "#Using is operator\n",
    "a = [1, 2, 3]\n",
    "b = a\n",
    "c = [1, 2, 3]\n",
    "\n",
    "# 'is' checks if both variables point to the same object\n",
    "print(a is b)  # Output: True\n",
    "print(a is c)  # Output: False"
   ]
  },
  {
   "cell_type": "code",
   "execution_count": 20,
   "id": "81880b9f-9256-4f8a-bc1d-2b9e0ae2f7c8",
   "metadata": {},
   "outputs": [
    {
     "name": "stdout",
     "output_type": "stream",
     "text": [
      "True\n",
      "False\n"
     ]
    }
   ],
   "source": [
    "#Using is not operator\n",
    "a = [1, 2, 3]\n",
    "b = [1, 2, 3]\n",
    "\n",
    "# 'is not' checks if both variables point to different objects\n",
    "print(a is not b)  # Output: True\n",
    "\n",
    "d = a\n",
    "print(a is not d)  # Output: False"
   ]
  },
  {
   "cell_type": "raw",
   "id": "70a4b138-57bb-4d02-bb3c-e638fe956efa",
   "metadata": {},
   "source": [
    "#5.Explain the concept of type casting in Python with examples.\n",
    "#Ans:\n",
    "Type casting in Python refers to converting a variable from one data type to another\n",
    "#type of casting:\n",
    "1.implicit #Python automatically converts one data type to another when it makes sense.\n",
    "2.explicit #Explicit type casting is done by the programmer using built-in functions.\n",
    "\n",
    "Common Type Casting Functions:\n",
    "int(): Converts a value to an integer.\n",
    "float(): Converts a value to a float.\n",
    "str(): Converts a value to a string.\n",
    "list(): Converts a value to a list.\n",
    "tuple(): Converts a value to a tuple."
   ]
  },
  {
   "cell_type": "code",
   "execution_count": 23,
   "id": "4384e0b0-6e48-4016-b9a3-79fa3bc89d3f",
   "metadata": {},
   "outputs": [
    {
     "name": "stdout",
     "output_type": "stream",
     "text": [
      "10\n",
      "<class 'int'>\n"
     ]
    }
   ],
   "source": [
    "#Converting to int:\n",
    "x = \"10\"\n",
    "y = int(x)\n",
    "print(y)  # Output: 10\n",
    "print(type(y))  # Output: <class 'int'>"
   ]
  },
  {
   "cell_type": "code",
   "execution_count": 24,
   "id": "24f26110-6789-47fc-bde5-d41078093a0e",
   "metadata": {},
   "outputs": [
    {
     "name": "stdout",
     "output_type": "stream",
     "text": [
      "10.5\n",
      "<class 'float'>\n"
     ]
    }
   ],
   "source": [
    "#Converting to float:\n",
    "x = \"10.5\"\n",
    "y = float(x)\n",
    "print(y)  # Output: 10.5\n",
    "print(type(y))  # Output: <class 'float'>"
   ]
  },
  {
   "cell_type": "code",
   "execution_count": 25,
   "id": "ecfb4176-5858-49aa-8b24-0234d3cca503",
   "metadata": {},
   "outputs": [
    {
     "name": "stdout",
     "output_type": "stream",
     "text": [
      "10\n",
      "<class 'str'>\n"
     ]
    }
   ],
   "source": [
    "#Converting to str:\n",
    "x = 10\n",
    "y = str(x)\n",
    "print(y)  # Output: \"10\"\n",
    "print(type(y))  # Output: <class 'str'>"
   ]
  },
  {
   "cell_type": "code",
   "execution_count": 26,
   "id": "ac48eeae-0a51-4ced-abdf-c51e3620c19e",
   "metadata": {},
   "outputs": [
    {
     "name": "stdout",
     "output_type": "stream",
     "text": [
      "['h', 'e', 'l', 'l', 'o']\n",
      "<class 'list'>\n"
     ]
    }
   ],
   "source": [
    "#Converting to list:\n",
    "x = \"hello\"\n",
    "y = list(x)\n",
    "print(y)  # Output: ['h', 'e', 'l', 'l', 'o']\n",
    "print(type(y))  # Output: <class 'list'>"
   ]
  },
  {
   "cell_type": "code",
   "execution_count": 27,
   "id": "da597959-516f-4591-9022-3fa1c12aefd9",
   "metadata": {},
   "outputs": [
    {
     "name": "stdout",
     "output_type": "stream",
     "text": [
      "(1, 2, 3)\n",
      "<class 'tuple'>\n"
     ]
    }
   ],
   "source": [
    "#Converting to tuple:\n",
    "x = [1, 2, 3]\n",
    "y = tuple(x)\n",
    "print(y)  # Output: (1, 2, 3)\n",
    "print(type(y))  # Output: <class 'tuple'>"
   ]
  },
  {
   "cell_type": "raw",
   "id": "cc10c43a-0142-41cb-855b-42eb87aba05b",
   "metadata": {},
   "source": [
    "#6.Hoe do conditionals statements statements work in python ? Illustrate with examoples.\n",
    "#Ans:\n",
    "#Conditionals statements helps you to code decisions based on some preconditions.\n",
    "#The primary conditional statements in Python are if, elif, and else.\n"
   ]
  },
  {
   "cell_type": "code",
   "execution_count": 30,
   "id": "4cfd4b8c-3f82-4a95-8b0e-7d3705eb8596",
   "metadata": {},
   "outputs": [
    {
     "name": "stdout",
     "output_type": "stream",
     "text": [
      "a is greater than 5\n"
     ]
    }
   ],
   "source": [
    "#if Statement\n",
    "a = 10\n",
    "if a > 5:\n",
    "    print(\"a is greater than 5\")"
   ]
  },
  {
   "cell_type": "code",
   "execution_count": 31,
   "id": "e60d2729-a887-40be-9f0f-b5a9a72518e7",
   "metadata": {},
   "outputs": [
    {
     "name": "stdout",
     "output_type": "stream",
     "text": [
      "a is greater than 5 but less than or equal to 15\n"
     ]
    }
   ],
   "source": [
    "#elif Statement\n",
    "a = 10\n",
    "if a > 15:\n",
    "    print(\"a is greater than 15\")\n",
    "elif a > 5:\n",
    "    print(\"a is greater than 5 but less than or equal to 15\")"
   ]
  },
  {
   "cell_type": "code",
   "execution_count": 32,
   "id": "f065b14c-0016-4e47-9b0f-638162215166",
   "metadata": {},
   "outputs": [
    {
     "name": "stdout",
     "output_type": "stream",
     "text": [
      "a is 3 or less\n"
     ]
    }
   ],
   "source": [
    "#else Statement\n",
    "a = 2\n",
    "if a > 5:\n",
    "    print(\"a is greater than 5\")\n",
    "elif a > 3:\n",
    "    print(\"a is greater than 3 but less than or equal to 5\")\n",
    "else:\n",
    "    print(\"a is 3 or less\")"
   ]
  },
  {
   "cell_type": "code",
   "execution_count": 33,
   "id": "bc727e34-bbc9-4fee-b5bd-4dc280cd56e6",
   "metadata": {},
   "outputs": [
    {
     "name": "stdout",
     "output_type": "stream",
     "text": [
      "a is greater than 5\n",
      "a is also greater than 8\n"
     ]
    }
   ],
   "source": [
    "#Nested Conditional Statements\n",
    "a = 10\n",
    "if a > 5:\n",
    "    print(\"a is greater than 5\")\n",
    "    if a > 8:\n",
    "        print(\"a is also greater than 8\")\n",
    "    else:\n",
    "        print(\"a is not greater than 8\")\n",
    "else:\n",
    "    print(\"a is 5 or less\")\n"
   ]
  },
  {
   "cell_type": "raw",
   "id": "f25eb027-c7be-4377-89f0-ac9ad97c7809",
   "metadata": {},
   "source": [
    "#7.Describe the different types of loops in python and their use cases with examples.\n",
    "#Ans:\n",
    "\n",
    "#Loop:It allows you to execute a block of code repeadly\n",
    "\n",
    "for Loop: Iterating over asequence of elements. (like a list, tuple, dictionary, set, or string) or other iterable objects.\n",
    "\n",
    "while Loop: A while loop repeatedly executes a block of code as long as a condition is true.(or condition is met )\n",
    "\n",
    "Nested Loops: Working with multi-dimensional data structures, such as matrices."
   ]
  },
  {
   "cell_type": "code",
   "execution_count": null,
   "id": "8fa002ae-01e1-4478-8758-b6c6bed86a43",
   "metadata": {},
   "outputs": [
    {
     "name": "stdout",
     "output_type": "stream",
     "text": [
      "1\n",
      "2\n",
      "3\n",
      "4\n",
      "5\n",
      "H\n",
      "e\n",
      "l\n",
      "l\n",
      "o\n",
      "a 1\n",
      "b 2\n",
      "c 3\n"
     ]
    }
   ],
   "source": [
    "#for Loop\n",
    "# Iterating over a list\n",
    "numbers = [1, 2, 3, 4, 5]\n",
    "for num in numbers:\n",
    "    print(num)\n",
    "# Output: 1 2 3 4 5\n",
    "\n",
    "# Iterating over a string\n",
    "text = \"Hello\"\n",
    "for char in text:\n",
    "    print(char)\n",
    "# Output: H e l l o\n",
    "\n",
    "# Iterating over a dictionary\n",
    "my_dict = {'a': 1, 'b': 2, 'c': 3}\n",
    "for key in my_dict:\n",
    "    print(key, my_dict[key])\n"
   ]
  },
  {
   "cell_type": "code",
   "execution_count": 35,
   "id": "c41023eb-85bf-43a2-96d0-f6f63fc13f0b",
   "metadata": {},
   "outputs": [
    {
     "name": "stdout",
     "output_type": "stream",
     "text": [
      "1\n",
      "2\n",
      "3\n",
      "4\n",
      "5\n",
      "1\n",
      "2\n",
      "3\n",
      "4\n",
      "5\n"
     ]
    }
   ],
   "source": [
    "#while Loop\n",
    "# Printing numbers from 1 to 5\n",
    "i = 1\n",
    "while i <= 5:\n",
    "    print(i)\n",
    "    i += 1\n",
    "# Output: 1 2 3 4 5\n",
    "\n",
    "# Example with a break statement\n",
    "i = 1\n",
    "while True:\n",
    "    print(i)\n",
    "    i += 1\n",
    "    if i > 5:\n",
    "        break"
   ]
  },
  {
   "cell_type": "code",
   "execution_count": 36,
   "id": "d62fb5a5-2d27-49e9-89a2-e5b7e4b02faf",
   "metadata": {},
   "outputs": [
    {
     "name": "stdout",
     "output_type": "stream",
     "text": [
      "1 2 3 \n",
      "2 4 6 \n",
      "3 6 9 \n"
     ]
    }
   ],
   "source": [
    "#Nested Loops\n",
    "# Printing a multiplication table\n",
    "for i in range(1, 4):\n",
    "    for j in range(1, 4):\n",
    "        print(i * j, end=' ')\n",
    "    print()"
   ]
  },
  {
   "cell_type": "raw",
   "id": "68eb0f07-fe41-41ad-ab1a-897984198336",
   "metadata": {},
   "source": [
    "#break and continue Statements\n",
    "#break: Terminates the loop.\n",
    "#continue: Skips the rest of the code inside the loop for the current iteration and moves to the next iteration."
   ]
  },
  {
   "cell_type": "code",
   "execution_count": 37,
   "id": "3b67d3ad-6e95-449a-ab50-935e24c09533",
   "metadata": {},
   "outputs": [
    {
     "name": "stdout",
     "output_type": "stream",
     "text": [
      "1\n",
      "2\n"
     ]
    }
   ],
   "source": [
    "#break\n",
    "\n",
    "#Looping through a list until a certain condition is met\n",
    "numbers = [1, 2, 3, 4, 5]\n",
    "for num in numbers:\n",
    "    if num == 3:\n",
    "        break\n",
    "    print(num)"
   ]
  },
  {
   "cell_type": "code",
   "execution_count": null,
   "id": "afbbc2e1-ab78-4e0d-a419-8264d150d1e4",
   "metadata": {},
   "outputs": [
    {
     "name": "stdout",
     "output_type": "stream",
     "text": [
      "1\n",
      "2\n",
      "4\n",
      "5\n"
     ]
    }
   ],
   "source": [
    "#continue:\n",
    "\n",
    "# Looping through a list and skipping a certain condition\n",
    "numbers = [1, 2, 3, 4, 5]\n",
    "for num in numbers:\n",
    "    if num == 3:\n",
    "        continue\n",
    "    print(num)"
   ]
  }
 ],
 "metadata": {
  "kernelspec": {
   "display_name": "Python 3 (ipykernel)",
   "language": "python",
   "name": "python3"
  },
  "language_info": {
   "codemirror_mode": {
    "name": "ipython",
    "version": 3
   },
   "file_extension": ".py",
   "mimetype": "text/x-python",
   "name": "python",
   "nbconvert_exporter": "python",
   "pygments_lexer": "ipython3",
   "version": "3.10.8"
  }
 },
 "nbformat": 4,
 "nbformat_minor": 5
}
